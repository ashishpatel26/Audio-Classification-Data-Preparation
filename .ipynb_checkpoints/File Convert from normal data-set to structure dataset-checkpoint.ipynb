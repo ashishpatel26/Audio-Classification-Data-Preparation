{
 "cells": [
  {
   "cell_type": "code",
   "execution_count": 5,
   "metadata": {},
   "outputs": [],
   "source": [
    "import pandas as pd\n",
    "import os\n",
    "import shutil"
   ]
  },
  {
   "cell_type": "code",
   "execution_count": 6,
   "metadata": {},
   "outputs": [
    {
     "name": "stdout",
     "output_type": "stream",
     "text": [
      "airplane Done...!!! breathing Done...!!! brushing_teeth Done...!!! can_opening Done...!!! car_horn Done...!!! cat Done...!!! chainsaw Done...!!! chirping_birds Done...!!! church_bells Done...!!! clapping Done...!!! clock_alarm Done...!!! clock_tick Done...!!! coughing Done...!!! cow Done...!!! crackling_fire Done...!!! crickets Done...!!! crow Done...!!! crying_baby Done...!!! dog Done...!!! door_wood_creaks Done...!!! door_wood_knock Done...!!! drinking_sipping Done...!!! engine Done...!!! fireworks Done...!!! footsteps Done...!!! frog Done...!!! glass_breaking Done...!!! hand_saw Done...!!! helicopter Done...!!! hen Done...!!! insects Done...!!! keyboard_typing Done...!!! laughing Done...!!! mouse_click Done...!!! pig Done...!!! pouring_water Done...!!! rain Done...!!! rooster Done...!!! sea_waves Done...!!! sheep Done...!!! siren Done...!!! sneezing Done...!!! snoring Done...!!! thunderstorm Done...!!! toilet_flush Done...!!! train Done...!!! vacuum_cleaner Done...!!! washing_machine Done...!!! water_drops Done...!!! wind Done...!!! \n",
      "Total File copy is 2000\n"
     ]
    }
   ],
   "source": [
    "# Normal Structure\n",
    "audio_data = pd.read_csv(\"./meta/esc50.csv\")\n",
    "grouped = audio_data.groupby('category')\n",
    "\n",
    "for name,group in grouped:\n",
    "    if name:\n",
    "        if os.path.isdir('./audio_data/'+name):\n",
    "            for i in group['filename']:\n",
    "#                 print('./audio/'+i+\" copied to audio_data/\"+name+'/'+i)\n",
    "                shutil.copy2('./audio/'+i,'./audio_data/'+name+'/'+i)\n",
    "        else:\n",
    "            os.makedirs('./audio_data/'+name)\n",
    "            for i in group['filename']:\n",
    "#                 print('./audio/'+i+\"copied to audio_data/\"+name+'/'+i)\n",
    "                shutil.copy2('./audio/'+i,'./audio_data/'+name+'/'+i)\n",
    "    print(name+\" Done...!!!\", end = \" \")\n",
    "    \n",
    "Total = 0\n",
    "for i in os.listdir('./audio_data/'):\n",
    "#     print(\"{} ----> {}\".format(i,len(os.listdir('./audio_data/'+i))))\n",
    "    Total += len(os.listdir('./audio_data/'+i))\n",
    "\n",
    "print(\"\\nTotal File copy is {}\".format(Total))"
   ]
  },
  {
   "cell_type": "code",
   "execution_count": 10,
   "metadata": {},
   "outputs": [],
   "source": [
    "## Function Structure \n",
    "\n",
    "def prepare_data(csv = \"./meta/esc50.csv\",dest = './audio1/',src = './audio/'):\n",
    "    audio1 = pd.read_csv(csv)\n",
    "    grouped = audio1.groupby('category')\n",
    "\n",
    "    for name,group in grouped:\n",
    "        if name:\n",
    "            if os.path.isdir(dest+name):\n",
    "                for i in group['filename']:\n",
    "    #                 print('./audio/'+i+\" copied to audio1/\"+name+'/'+i)\n",
    "                    shutil.copy2(src+i,dest+name+'/'+i)\n",
    "            else:\n",
    "                os.makedirs(dest+name)\n",
    "                for i in group['filename']:\n",
    "    #                 print('./audio/'+i+\"copied to audio1/\"+name+'/'+i)\n",
    "                    shutil.copy2(src+i,dest+name+'/'+i)\n",
    "        print(name+\" Done...!!!\", end = \" \")\n",
    "\n",
    "    Total = 0\n",
    "    for i in os.listdir(dest):\n",
    "    #     print(\"{} ----> {}\".format(i,len(os.listdir('./audio1/'+i))))\n",
    "        Total += len(os.listdir(dest+i))\n",
    "\n",
    "    print(\"\\nTotal File copy is {}\".format(Total))"
   ]
  },
  {
   "cell_type": "code",
   "execution_count": 14,
   "metadata": {},
   "outputs": [
    {
     "name": "stdout",
     "output_type": "stream",
     "text": [
      "airplane Done...!!! breathing Done...!!! brushing_teeth Done...!!! can_opening Done...!!! car_horn Done...!!! cat Done...!!! chainsaw Done...!!! chirping_birds Done...!!! church_bells Done...!!! clapping Done...!!! clock_alarm Done...!!! clock_tick Done...!!! coughing Done...!!! cow Done...!!! crackling_fire Done...!!! crickets Done...!!! crow Done...!!! crying_baby Done...!!! dog Done...!!! door_wood_creaks Done...!!! door_wood_knock Done...!!! drinking_sipping Done...!!! engine Done...!!! fireworks Done...!!! footsteps Done...!!! frog Done...!!! glass_breaking Done...!!! hand_saw Done...!!! helicopter Done...!!! hen Done...!!! insects Done...!!! keyboard_typing Done...!!! laughing Done...!!! mouse_click Done...!!! pig Done...!!! pouring_water Done...!!! rain Done...!!! rooster Done...!!! sea_waves Done...!!! sheep Done...!!! siren Done...!!! sneezing Done...!!! snoring Done...!!! thunderstorm Done...!!! toilet_flush Done...!!! train Done...!!! vacuum_cleaner Done...!!! washing_machine Done...!!! water_drops Done...!!! wind Done...!!! \n",
      "Total File copy is 2000\n"
     ]
    }
   ],
   "source": [
    "prepare_data(csv=\"./meta/esc50.csv\",dest=\"./ESC50/\",src=\"./audio/\")"
   ]
  },
  {
   "cell_type": "code",
   "execution_count": null,
   "metadata": {},
   "outputs": [],
   "source": []
  }
 ],
 "metadata": {
  "kernelspec": {
   "display_name": "Python 3",
   "language": "python",
   "name": "python3"
  },
  "language_info": {
   "codemirror_mode": {
    "name": "ipython",
    "version": 3
   },
   "file_extension": ".py",
   "mimetype": "text/x-python",
   "name": "python",
   "nbconvert_exporter": "python",
   "pygments_lexer": "ipython3",
   "version": "3.6.8"
  }
 },
 "nbformat": 4,
 "nbformat_minor": 2
}
