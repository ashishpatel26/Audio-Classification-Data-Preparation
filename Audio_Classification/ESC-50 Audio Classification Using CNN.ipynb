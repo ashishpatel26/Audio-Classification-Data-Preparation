{
 "cells": [
  {
   "cell_type": "markdown",
   "metadata": {
    "colab_type": "text",
    "id": "-1PkcG8ARink"
   },
   "source": [
    "# load the zip file and unzip and before check the GPU"
   ]
  },
  {
   "cell_type": "code",
   "execution_count": 1,
   "metadata": {
    "colab": {
     "base_uri": "https://localhost:8080/",
     "height": 34
    },
    "colab_type": "code",
    "id": "noWlyPbYRjEW",
    "outputId": "f2173e08-b70d-4996-8cb9-2496c885918d"
   },
   "outputs": [
    {
     "name": "stdout",
     "output_type": "stream",
     "text": [
      "Found GPU at: /device:GPU:0\n"
     ]
    }
   ],
   "source": [
    "import tensorflow as tf\n",
    "device_name = tf.test.gpu_device_name()\n",
    "if device_name != '/device:GPU:0':\n",
    "    raise SystemError('GPU device not found')\n",
    "print('Found GPU at: {}'.format(device_name))"
   ]
  },
  {
   "cell_type": "code",
   "execution_count": 2,
   "metadata": {
    "colab": {},
    "colab_type": "code",
    "id": "oj7qMHB1Rjei"
   },
   "outputs": [],
   "source": [
    "# import dependencies\n",
    "import requests, zipfile, io\n",
    "from glob import glob\n",
    "import matplotlib.pyplot as plt\n",
    "from scipy import signal\n",
    "from scipy.io import wavfile\n",
    "import numpy as np\n",
    "from tqdm import tqdm\n",
    "import cv2\n",
    "import pandas as pd\n",
    "seed = 7\n",
    "import pandas as pd\n",
    "np.random.seed(seed)\n",
    "import os"
   ]
  },
  {
   "cell_type": "code",
   "execution_count": 3,
   "metadata": {
    "colab": {},
    "colab_type": "code",
    "id": "2fFZvy2KR2Or"
   },
   "outputs": [],
   "source": [
    "zip_file_url = 'https://github.com/karoldvl/ESC-50/archive/master.zip' # link: ESC-50 Datset"
   ]
  },
  {
   "cell_type": "code",
   "execution_count": 4,
   "metadata": {
    "colab": {},
    "colab_type": "code",
    "id": "1p6gOOf7R4la"
   },
   "outputs": [],
   "source": [
    "if not os.path.exists('sound'):\n",
    "    os.makedirs('sound')"
   ]
  },
  {
   "cell_type": "code",
   "execution_count": 5,
   "metadata": {
    "colab": {},
    "colab_type": "code",
    "id": "57CWcZEMR6bk"
   },
   "outputs": [],
   "source": [
    "r = requests.get(zip_file_url)\n",
    "z = zipfile.ZipFile(io.BytesIO(r.content))\n",
    "z.extractall('sound/')\n",
    "z.close()"
   ]
  },
  {
   "cell_type": "code",
   "execution_count": 1,
   "metadata": {
    "colab": {
     "base_uri": "https://localhost:8080/",
     "height": 17401
    },
    "colab_type": "code",
    "id": "wolXIYLER7_a",
    "outputId": "2e502158-17f1-4e3d-d7da-2fa57e346f41"
   },
   "outputs": [],
   "source": [
    "# glob('sound/ESC-50-master/audio/*')"
   ]
  },
  {
   "cell_type": "markdown",
   "metadata": {
    "colab_type": "text",
    "id": "QiBuAfmzR_ZW"
   },
   "source": [
    "# Define a function to covert the image based on calculate log scaled mel-spectrograms and their corresponding deltas from a sound clip."
   ]
  },
  {
   "cell_type": "markdown",
   "metadata": {
    "colab_type": "text",
    "id": "thM1KXCcItCj"
   },
   "source": [
    "Regarding fixed size input, we will divide each sound clip into segments of 60x41 (60 rows and 41 columns). The mel-spec and their deltas will become two channels, which we will be fed into CNN"
   ]
  },
  {
   "cell_type": "code",
   "execution_count": 7,
   "metadata": {
    "colab": {
     "base_uri": "https://localhost:8080/",
     "height": 558
    },
    "colab_type": "code",
    "id": "OgtlX8LVR_yH",
    "outputId": "c9d6a184-0cb4-47d1-8661-ba7a433d41dd"
   },
   "outputs": [],
   "source": [
    "# !pip install librosa\n",
    "import librosa"
   ]
  },
  {
   "cell_type": "code",
   "execution_count": 8,
   "metadata": {
    "colab": {},
    "colab_type": "code",
    "id": "j0EKGGDFSCrj"
   },
   "outputs": [],
   "source": [
    "def windows(data, window_size):\n",
    "    start = 0\n",
    "    while start < len(data):\n",
    "        yield int(start), int(start + window_size)\n",
    "        start += (window_size / 2)\n",
    "\n",
    "def extract_features(bands = 60, frames = 41):\n",
    "    window_size = 512 * (frames - 1)\n",
    "    log_specgrams = []\n",
    "    labels = []\n",
    "    for fn in tqdm(glob('sound/ESC-50-master/audio/*')):\n",
    "        sound_clip,s = librosa.load(fn) # 5sec\n",
    "        sound_clip   = np.concatenate((sound_clip,sound_clip),axis=None) # make it 10s\n",
    "        label = fn.split(\"/\")[-1].split(\"-\")[-1].split(\".\")[0]\n",
    "        for (start,end) in windows(sound_clip,window_size):\n",
    "            if(len(sound_clip[start:end]) == window_size):\n",
    "                signal = sound_clip[start:end]\n",
    "                melspec = librosa.feature.melspectrogram(signal, n_mels = bands)\n",
    "                logspec = librosa.core.amplitude_to_db(melspec)\n",
    "                logspec = logspec.T.flatten()[:, np.newaxis].T\n",
    "                log_specgrams.append(logspec)\n",
    "                labels.append(label)\n",
    "            \n",
    "    log_specgrams = np.asarray(log_specgrams).reshape(len(log_specgrams),bands,frames,1)\n",
    "    features = np.concatenate((log_specgrams, np.zeros(np.shape(log_specgrams))), axis = 3)\n",
    "    for i in range(len(features)):\n",
    "        features[i, :, :, 1] = librosa.feature.delta(features[i, :, :, 0])\n",
    "    \n",
    "    return np.array(features), np.array(labels,dtype = np.int)"
   ]
  },
  {
   "cell_type": "code",
   "execution_count": 9,
   "metadata": {
    "colab": {
     "base_uri": "https://localhost:8080/",
     "height": 34
    },
    "colab_type": "code",
    "id": "h2ha-vueSGbb",
    "outputId": "0f3c12ab-58a8-4a81-8143-56cf5752fccc"
   },
   "outputs": [
    {
     "name": "stderr",
     "output_type": "stream",
     "text": [
      "100%|██████████| 2000/2000 [14:03<00:00,  2.35it/s]\n",
      "/opt/conda/lib/python3.6/site-packages/scipy/signal/_arraytools.py:45: FutureWarning: Using a non-tuple sequence for multidimensional indexing is deprecated; use `arr[tuple(seq)]` instead of `arr[seq]`. In the future this will be interpreted as an array index, `arr[np.array(seq)]`, which will result either in an error or a different result.\n",
      "  b = a[a_slice]\n"
     ]
    }
   ],
   "source": [
    "features,labels = extract_features()"
   ]
  },
  {
   "cell_type": "code",
   "execution_count": 11,
   "metadata": {
    "colab": {
     "base_uri": "https://localhost:8080/",
     "height": 206
    },
    "colab_type": "code",
    "id": "OIC9avaXKAr9",
    "outputId": "b492a55d-1c70-4cd2-e4b0-7605686ac75b"
   },
   "outputs": [
    {
     "data": {
      "text/html": [
       "<div>\n",
       "<style scoped>\n",
       "    .dataframe tbody tr th:only-of-type {\n",
       "        vertical-align: middle;\n",
       "    }\n",
       "\n",
       "    .dataframe tbody tr th {\n",
       "        vertical-align: top;\n",
       "    }\n",
       "\n",
       "    .dataframe thead th {\n",
       "        text-align: right;\n",
       "    }\n",
       "</style>\n",
       "<table border=\"1\" class=\"dataframe\">\n",
       "  <thead>\n",
       "    <tr style=\"text-align: right;\">\n",
       "      <th></th>\n",
       "      <th>target</th>\n",
       "      <th>category</th>\n",
       "    </tr>\n",
       "  </thead>\n",
       "  <tbody>\n",
       "    <tr>\n",
       "      <th>0</th>\n",
       "      <td>0</td>\n",
       "      <td>dog</td>\n",
       "    </tr>\n",
       "    <tr>\n",
       "      <th>1</th>\n",
       "      <td>1</td>\n",
       "      <td>rooster</td>\n",
       "    </tr>\n",
       "    <tr>\n",
       "      <th>2</th>\n",
       "      <td>2</td>\n",
       "      <td>pig</td>\n",
       "    </tr>\n",
       "    <tr>\n",
       "      <th>3</th>\n",
       "      <td>3</td>\n",
       "      <td>cow</td>\n",
       "    </tr>\n",
       "    <tr>\n",
       "      <th>4</th>\n",
       "      <td>4</td>\n",
       "      <td>frog</td>\n",
       "    </tr>\n",
       "  </tbody>\n",
       "</table>\n",
       "</div>"
      ],
      "text/plain": [
       "   target category\n",
       "0       0      dog\n",
       "1       1  rooster\n",
       "2       2      pig\n",
       "3       3      cow\n",
       "4       4     frog"
      ]
     },
     "execution_count": 11,
     "metadata": {},
     "output_type": "execute_result"
    }
   ],
   "source": [
    "# label category names\n",
    "df = pd.read_csv(glob('sound/ESC-50-master/meta/esc50.csv')[0])\n",
    "df = df[['target','category']]\n",
    "df = df.drop_duplicates().reset_index(drop=True)\n",
    "df = df.sort_values(by=['target']).reset_index(drop=True)\n",
    "df.head()"
   ]
  },
  {
   "cell_type": "code",
   "execution_count": 12,
   "metadata": {
    "colab": {
     "base_uri": "https://localhost:8080/",
     "height": 885
    },
    "colab_type": "code",
    "id": "WxfXTqd-KAyX",
    "outputId": "187ec0a4-d2d7-4134-dc9a-63f22495ad90"
   },
   "outputs": [
    {
     "data": {
      "text/plain": [
       "{0: 'dog',\n",
       " 1: 'rooster',\n",
       " 2: 'pig',\n",
       " 3: 'cow',\n",
       " 4: 'frog',\n",
       " 5: 'cat',\n",
       " 6: 'hen',\n",
       " 7: 'insects',\n",
       " 8: 'sheep',\n",
       " 9: 'crow',\n",
       " 10: 'rain',\n",
       " 11: 'sea_waves',\n",
       " 12: 'crackling_fire',\n",
       " 13: 'crickets',\n",
       " 14: 'chirping_birds',\n",
       " 15: 'water_drops',\n",
       " 16: 'wind',\n",
       " 17: 'pouring_water',\n",
       " 18: 'toilet_flush',\n",
       " 19: 'thunderstorm',\n",
       " 20: 'crying_baby',\n",
       " 21: 'sneezing',\n",
       " 22: 'clapping',\n",
       " 23: 'breathing',\n",
       " 24: 'coughing',\n",
       " 25: 'footsteps',\n",
       " 26: 'laughing',\n",
       " 27: 'brushing_teeth',\n",
       " 28: 'snoring',\n",
       " 29: 'drinking_sipping',\n",
       " 30: 'door_wood_knock',\n",
       " 31: 'mouse_click',\n",
       " 32: 'keyboard_typing',\n",
       " 33: 'door_wood_creaks',\n",
       " 34: 'can_opening',\n",
       " 35: 'washing_machine',\n",
       " 36: 'vacuum_cleaner',\n",
       " 37: 'clock_alarm',\n",
       " 38: 'clock_tick',\n",
       " 39: 'glass_breaking',\n",
       " 40: 'helicopter',\n",
       " 41: 'chainsaw',\n",
       " 42: 'siren',\n",
       " 43: 'car_horn',\n",
       " 44: 'engine',\n",
       " 45: 'train',\n",
       " 46: 'church_bells',\n",
       " 47: 'airplane',\n",
       " 48: 'fireworks',\n",
       " 49: 'hand_saw'}"
      ]
     },
     "execution_count": 12,
     "metadata": {},
     "output_type": "execute_result"
    }
   ],
   "source": [
    "my_dict = {}\n",
    "for i in range(len(df)):\n",
    "    my_dict[df['target'][i]] = df['category'][i]\n",
    "my_dict"
   ]
  },
  {
   "cell_type": "code",
   "execution_count": 13,
   "metadata": {
    "colab": {
     "base_uri": "https://localhost:8080/",
     "height": 34
    },
    "colab_type": "code",
    "id": "Ku8IcFZrJBZI",
    "outputId": "4811a736-96b3-4e9d-f6f5-20d3a49b8958"
   },
   "outputs": [
    {
     "name": "stderr",
     "output_type": "stream",
     "text": [
      "Using TensorFlow backend.\n"
     ]
    }
   ],
   "source": [
    "seed = 4\n",
    "rng = np.random.RandomState(seed)\n",
    "from keras.utils import to_categorical"
   ]
  },
  {
   "cell_type": "code",
   "execution_count": 14,
   "metadata": {
    "colab": {},
    "colab_type": "code",
    "id": "secntJcARZdu"
   },
   "outputs": [],
   "source": [
    "onehot_labels = to_categorical(labels,num_classes=50)"
   ]
  },
  {
   "cell_type": "code",
   "execution_count": 15,
   "metadata": {
    "colab": {},
    "colab_type": "code",
    "id": "-kOPQNP_JuWz"
   },
   "outputs": [],
   "source": [
    "# Create train test Dataset\n",
    "\n",
    "rnd_indices = np.random.rand(len(labels)) < 0.70\n",
    "\n",
    "X_train = features[rnd_indices]\n",
    "y_train = onehot_labels[rnd_indices]\n",
    "X_test  = features[~rnd_indices]\n",
    "y_test  = onehot_labels[~rnd_indices]"
   ]
  },
  {
   "cell_type": "code",
   "execution_count": 17,
   "metadata": {
    "colab": {
     "base_uri": "https://localhost:8080/",
     "height": 34
    },
    "colab_type": "code",
    "id": "SfJAbkoBIyka",
    "outputId": "42fc6f39-e8e6-4ab2-fe0c-9331c6f8afcf"
   },
   "outputs": [
    {
     "data": {
      "text/plain": [
       "((27998, 60, 41, 2), (27998, 50), (12002, 60, 41, 2), (12002, 50))"
      ]
     },
     "execution_count": 17,
     "metadata": {},
     "output_type": "execute_result"
    }
   ],
   "source": [
    "X_train.shape, y_train.shape, X_test.shape, y_test.shape"
   ]
  },
  {
   "cell_type": "markdown",
   "metadata": {
    "colab_type": "text",
    "id": "G41d4lWCSIXW"
   },
   "source": [
    "# CNN Model"
   ]
  },
  {
   "cell_type": "code",
   "execution_count": 47,
   "metadata": {
    "colab": {},
    "colab_type": "code",
    "id": "qBz5DzbNSPOn"
   },
   "outputs": [],
   "source": [
    "from keras.models import Sequential\n",
    "from keras.layers import Dense\n",
    "from keras.layers import Dropout\n",
    "from keras.layers import Flatten,InputLayer\n",
    "from keras.layers.convolutional import Conv2D\n",
    "from keras.layers.convolutional import MaxPooling2D\n",
    "from keras.utils import np_utils\n",
    "from keras.optimizers import SGD, Adam\n",
    "from keras.constraints import maxnorm\n",
    "from keras.callbacks import ModelCheckpoint"
   ]
  },
  {
   "cell_type": "code",
   "execution_count": 48,
   "metadata": {
    "colab": {},
    "colab_type": "code",
    "id": "gjU1o2LPQ8Qi"
   },
   "outputs": [],
   "source": [
    "def basemodel():\n",
    "    model = Sequential()\n",
    "    model.add(Conv2D(32, (3, 3), input_shape=(60,41,2), activation='relu', padding='same'))\n",
    "    model.add(Dropout(0.2))\n",
    "    model.add(Conv2D(32, (3, 3), activation='relu', padding='same'))\n",
    "    model.add(MaxPooling2D(pool_size=(2, 2)))\n",
    "    model.add(Conv2D(64, (3, 3), activation='relu', padding='same'))\n",
    "    model.add(Dropout(0.2))\n",
    "    model.add(Conv2D(64, (3, 3), activation='relu', padding='same'))\n",
    "    model.add(MaxPooling2D(pool_size=(2, 2)))\n",
    "    model.add(Conv2D(128, (3, 3), activation='relu', padding='same'))\n",
    "    model.add(Dropout(0.2))\n",
    "    model.add(Conv2D(128, (3, 3), activation='relu', padding='same'))\n",
    "    model.add(MaxPooling2D(pool_size=(2, 2)))\n",
    "    model.add(Flatten())\n",
    "    model.add(Dropout(0.2))\n",
    "    model.add(Dense(1024, activation='relu', kernel_constraint=maxnorm(3)))\n",
    "    model.add(Dropout(0.2))\n",
    "    model.add(Dense(512, activation='relu', kernel_constraint=maxnorm(3)))\n",
    "    model.add(Dropout(0.2))\n",
    "    model.add(Dense(50, activation='softmax'))\n",
    "    # Compile model\n",
    "    epochs = 25\n",
    "    lrate = 0.01\n",
    "    decay = lrate/epochs\n",
    "#     sgd = SGD(lr=lrate, momentum=0.9, decay=decay, nesterov=False)\n",
    "    adam = Adam(lr=0.001, beta_1=0.9, beta_2=0.999, epsilon=None, decay=decay, amsgrad=False)\n",
    "    model.compile(loss='categorical_crossentropy', optimizer = adam, metrics=['accuracy'])\n",
    "    return model\n"
   ]
  },
  {
   "cell_type": "code",
   "execution_count": 49,
   "metadata": {
    "colab": {},
    "colab_type": "code",
    "id": "M-kw6vXfvbsx"
   },
   "outputs": [],
   "source": [
    "if not os.path.exists('model'):\n",
    "    os.makedirs('model')\n",
    "    \n",
    "filepath=\"model/weights_0.best.hdf5\"\n",
    "checkpoint = ModelCheckpoint(filepath, monitor='val_acc', verbose=1, save_best_only=True, mode='max')\n",
    "callbacks_list = [checkpoint]"
   ]
  },
  {
   "cell_type": "code",
   "execution_count": 50,
   "metadata": {
    "colab": {
     "base_uri": "https://localhost:8080/",
     "height": 816
    },
    "colab_type": "code",
    "id": "lw99-PBBaMkh",
    "outputId": "ff226441-ccbe-4ee2-8392-728db38108c2"
   },
   "outputs": [
    {
     "name": "stdout",
     "output_type": "stream",
     "text": [
      "_________________________________________________________________\n",
      "Layer (type)                 Output Shape              Param #   \n",
      "=================================================================\n",
      "conv2d_13 (Conv2D)           (None, 60, 41, 32)        608       \n",
      "_________________________________________________________________\n",
      "dropout_13 (Dropout)         (None, 60, 41, 32)        0         \n",
      "_________________________________________________________________\n",
      "conv2d_14 (Conv2D)           (None, 60, 41, 32)        9248      \n",
      "_________________________________________________________________\n",
      "max_pooling2d_7 (MaxPooling2 (None, 30, 20, 32)        0         \n",
      "_________________________________________________________________\n",
      "conv2d_15 (Conv2D)           (None, 30, 20, 64)        18496     \n",
      "_________________________________________________________________\n",
      "dropout_14 (Dropout)         (None, 30, 20, 64)        0         \n",
      "_________________________________________________________________\n",
      "conv2d_16 (Conv2D)           (None, 30, 20, 64)        36928     \n",
      "_________________________________________________________________\n",
      "max_pooling2d_8 (MaxPooling2 (None, 15, 10, 64)        0         \n",
      "_________________________________________________________________\n",
      "conv2d_17 (Conv2D)           (None, 15, 10, 128)       73856     \n",
      "_________________________________________________________________\n",
      "dropout_15 (Dropout)         (None, 15, 10, 128)       0         \n",
      "_________________________________________________________________\n",
      "conv2d_18 (Conv2D)           (None, 15, 10, 128)       147584    \n",
      "_________________________________________________________________\n",
      "max_pooling2d_9 (MaxPooling2 (None, 7, 5, 128)         0         \n",
      "_________________________________________________________________\n",
      "flatten_3 (Flatten)          (None, 4480)              0         \n",
      "_________________________________________________________________\n",
      "dropout_16 (Dropout)         (None, 4480)              0         \n",
      "_________________________________________________________________\n",
      "dense_7 (Dense)              (None, 1024)              4588544   \n",
      "_________________________________________________________________\n",
      "dropout_17 (Dropout)         (None, 1024)              0         \n",
      "_________________________________________________________________\n",
      "dense_8 (Dense)              (None, 512)               524800    \n",
      "_________________________________________________________________\n",
      "dropout_18 (Dropout)         (None, 512)               0         \n",
      "_________________________________________________________________\n",
      "dense_9 (Dense)              (None, 50)                25650     \n",
      "=================================================================\n",
      "Total params: 5,425,714\n",
      "Trainable params: 5,425,714\n",
      "Non-trainable params: 0\n",
      "_________________________________________________________________\n",
      "None\n"
     ]
    }
   ],
   "source": [
    "model = basemodel()\n",
    "print(model.summary())"
   ]
  },
  {
   "cell_type": "markdown",
   "metadata": {
    "colab_type": "text",
    "id": "cx0OsC7UNwui"
   },
   "source": [
    "# Training with Data Augmentation"
   ]
  },
  {
   "cell_type": "markdown",
   "metadata": {
    "colab_type": "text",
    "id": "A8mvwWf8N5wz"
   },
   "source": [
    "One of the major reasons for overfitting is that we don’t have enough data to train our network. Apart from regularization, another very effective way to counter Overfitting is Data Augmentation. It is the process of artificially creating more images from the images you already have by changing the size, orientation etc of the image. It can be a tedious task but fortunately, this can be done in Keras using the ImageDataGenerator instance."
   ]
  },
  {
   "cell_type": "code",
   "execution_count": 51,
   "metadata": {
    "colab": {},
    "colab_type": "code",
    "id": "cN6wODr8Ll2R"
   },
   "outputs": [],
   "source": [
    "from keras.preprocessing.image import ImageDataGenerator"
   ]
  },
  {
   "cell_type": "code",
   "execution_count": 52,
   "metadata": {
    "colab": {},
    "colab_type": "code",
    "id": "cty8kEO1Ll-_"
   },
   "outputs": [],
   "source": [
    "datagen = ImageDataGenerator(\n",
    "              width_shift_range=0.1,  # randomly shift images horizontally (fraction of total width)\n",
    "              height_shift_range=0.1,  # randomly shift images vertically (fraction of total height)\n",
    "              horizontal_flip=True,  # randomly flip images\n",
    "              vertical_flip=False  # randomly flip images\n",
    "          )"
   ]
  },
  {
   "cell_type": "code",
   "execution_count": 53,
   "metadata": {
    "colab": {},
    "colab_type": "code",
    "id": "oBB3SQ_9L5Od"
   },
   "outputs": [],
   "source": [
    "# init the batch size and epochs\n",
    "\n",
    "'''\n",
    "Note: Due to Memory Error like Buffered data was truncated after reaching the output size limit. What i did is that Save the model in for example 60th epoch and close current program and run new program and restore saved model and train model from 61 epoch to 120 epoch and \n",
    "save that and close program and repeat this work for your interested epoch For this [100,50] three times repeat \n",
    "\n",
    "'''\n",
    "batch_size = 50\n",
    "epochs = 100"
   ]
  },
  {
   "cell_type": "code",
   "execution_count": 54,
   "metadata": {
    "colab": {
     "base_uri": "https://localhost:8080/",
     "height": 7018
    },
    "colab_type": "code",
    "id": "QuMWu0s1LmGh",
    "outputId": "61d09976-b47f-4f41-8035-03ba514ee0e8",
    "scrolled": false
   },
   "outputs": [
    {
     "name": "stderr",
     "output_type": "stream",
     "text": [
      "/opt/conda/lib/python3.6/site-packages/keras_preprocessing/image/numpy_array_iterator.py:127: UserWarning: NumpyArrayIterator is set to use the data format convention \"channels_last\" (channels on axis 3), i.e. expected either 1, 3, or 4 channels on axis 3. However, it was passed an array with shape (27998, 60, 41, 2) (2 channels).\n",
      "  str(self.x.shape[channels_axis]) + ' channels).')\n"
     ]
    },
    {
     "name": "stdout",
     "output_type": "stream",
     "text": [
      "Epoch 1/100\n",
      "560/560 [==============================] - 24s 42ms/step - loss: 3.5674 - acc: 0.0626 - val_loss: 3.2620 - val_acc: 0.1219\n",
      "\n",
      "Epoch 00001: val_acc improved from -inf to 0.12190, saving model to model/weights_0.best.hdf5\n",
      "Epoch 2/100\n",
      "560/560 [==============================] - 23s 40ms/step - loss: 3.0286 - acc: 0.1574 - val_loss: 2.7793 - val_acc: 0.2208\n",
      "\n",
      "Epoch 00002: val_acc improved from 0.12190 to 0.22080, saving model to model/weights_0.best.hdf5\n",
      "Epoch 3/100\n",
      "560/560 [==============================] - 23s 40ms/step - loss: 2.6666 - acc: 0.2366 - val_loss: 2.5812 - val_acc: 0.2770\n",
      "\n",
      "Epoch 00003: val_acc improved from 0.22080 to 0.27695, saving model to model/weights_0.best.hdf5\n",
      "Epoch 4/100\n",
      "560/560 [==============================] - 22s 40ms/step - loss: 2.3895 - acc: 0.3063 - val_loss: 2.2632 - val_acc: 0.3437\n",
      "\n",
      "Epoch 00004: val_acc improved from 0.27695 to 0.34369, saving model to model/weights_0.best.hdf5\n",
      "Epoch 5/100\n",
      "560/560 [==============================] - 23s 40ms/step - loss: 2.2095 - acc: 0.3525 - val_loss: 2.0672 - val_acc: 0.3970\n",
      "\n",
      "Epoch 00005: val_acc improved from 0.34369 to 0.39702, saving model to model/weights_0.best.hdf5\n",
      "Epoch 6/100\n",
      "560/560 [==============================] - 22s 40ms/step - loss: 2.0621 - acc: 0.3904 - val_loss: 2.0769 - val_acc: 0.3941\n",
      "\n",
      "Epoch 00006: val_acc did not improve from 0.39702\n",
      "Epoch 7/100\n",
      "560/560 [==============================] - 23s 40ms/step - loss: 1.9408 - acc: 0.4253 - val_loss: 2.0249 - val_acc: 0.4121\n",
      "\n",
      "Epoch 00007: val_acc improved from 0.39702 to 0.41210, saving model to model/weights_0.best.hdf5\n",
      "Epoch 8/100\n",
      "560/560 [==============================] - 22s 40ms/step - loss: 1.8569 - acc: 0.4449 - val_loss: 1.8749 - val_acc: 0.4443\n",
      "\n",
      "Epoch 00008: val_acc improved from 0.41210 to 0.44426, saving model to model/weights_0.best.hdf5\n",
      "Epoch 9/100\n",
      "560/560 [==============================] - 22s 40ms/step - loss: 1.7641 - acc: 0.4699 - val_loss: 1.9020 - val_acc: 0.4478\n",
      "\n",
      "Epoch 00009: val_acc improved from 0.44426 to 0.44784, saving model to model/weights_0.best.hdf5\n",
      "Epoch 10/100\n",
      "560/560 [==============================] - 22s 40ms/step - loss: 1.6993 - acc: 0.4903 - val_loss: 1.7551 - val_acc: 0.4779\n",
      "\n",
      "Epoch 00010: val_acc improved from 0.44784 to 0.47792, saving model to model/weights_0.best.hdf5\n",
      "Epoch 11/100\n",
      "560/560 [==============================] - 23s 41ms/step - loss: 1.6302 - acc: 0.5084 - val_loss: 1.8264 - val_acc: 0.4668\n",
      "\n",
      "Epoch 00011: val_acc did not improve from 0.47792\n",
      "Epoch 12/100\n",
      "560/560 [==============================] - 22s 40ms/step - loss: 1.5584 - acc: 0.5278 - val_loss: 1.6872 - val_acc: 0.5005\n",
      "\n",
      "Epoch 00012: val_acc improved from 0.47792 to 0.50050, saving model to model/weights_0.best.hdf5\n",
      "Epoch 13/100\n",
      "560/560 [==============================] - 22s 40ms/step - loss: 1.5139 - acc: 0.5377 - val_loss: 1.6516 - val_acc: 0.5117\n",
      "\n",
      "Epoch 00013: val_acc improved from 0.50050 to 0.51175, saving model to model/weights_0.best.hdf5\n",
      "Epoch 14/100\n",
      "560/560 [==============================] - 22s 40ms/step - loss: 1.4554 - acc: 0.5545 - val_loss: 1.7127 - val_acc: 0.4969\n",
      "\n",
      "Epoch 00014: val_acc did not improve from 0.51175\n",
      "Epoch 15/100\n",
      "560/560 [==============================] - 22s 40ms/step - loss: 1.4088 - acc: 0.5718 - val_loss: 1.7446 - val_acc: 0.4958\n",
      "\n",
      "Epoch 00015: val_acc did not improve from 0.51175\n",
      "Epoch 16/100\n",
      "560/560 [==============================] - 22s 40ms/step - loss: 1.3586 - acc: 0.5829 - val_loss: 1.6002 - val_acc: 0.5297\n",
      "\n",
      "Epoch 00016: val_acc improved from 0.51175 to 0.52975, saving model to model/weights_0.best.hdf5\n",
      "Epoch 17/100\n",
      "560/560 [==============================] - 23s 40ms/step - loss: 1.3279 - acc: 0.5944 - val_loss: 1.5813 - val_acc: 0.5336\n",
      "\n",
      "Epoch 00017: val_acc improved from 0.52975 to 0.53358, saving model to model/weights_0.best.hdf5\n",
      "Epoch 18/100\n",
      "560/560 [==============================] - 23s 40ms/step - loss: 1.2782 - acc: 0.6064 - val_loss: 1.6355 - val_acc: 0.5412\n",
      "\n",
      "Epoch 00018: val_acc improved from 0.53358 to 0.54116, saving model to model/weights_0.best.hdf5\n",
      "Epoch 19/100\n",
      "560/560 [==============================] - 23s 40ms/step - loss: 1.2341 - acc: 0.6174 - val_loss: 1.5320 - val_acc: 0.5470\n",
      "\n",
      "Epoch 00019: val_acc improved from 0.54116 to 0.54699, saving model to model/weights_0.best.hdf5\n",
      "Epoch 20/100\n",
      "560/560 [==============================] - 23s 41ms/step - loss: 1.2071 - acc: 0.6288 - val_loss: 1.4417 - val_acc: 0.5770\n",
      "\n",
      "Epoch 00020: val_acc improved from 0.54699 to 0.57699, saving model to model/weights_0.best.hdf5\n",
      "Epoch 21/100\n",
      "560/560 [==============================] - 23s 41ms/step - loss: 1.1796 - acc: 0.6349 - val_loss: 1.3945 - val_acc: 0.5851\n",
      "\n",
      "Epoch 00021: val_acc improved from 0.57699 to 0.58507, saving model to model/weights_0.best.hdf5\n",
      "Epoch 22/100\n",
      "560/560 [==============================] - 22s 40ms/step - loss: 1.1467 - acc: 0.6473 - val_loss: 1.4604 - val_acc: 0.5797\n",
      "\n",
      "Epoch 00022: val_acc did not improve from 0.58507\n",
      "Epoch 23/100\n",
      "560/560 [==============================] - 22s 40ms/step - loss: 1.1149 - acc: 0.6554 - val_loss: 1.6459 - val_acc: 0.5420\n",
      "\n",
      "Epoch 00023: val_acc did not improve from 0.58507\n",
      "Epoch 24/100\n",
      "560/560 [==============================] - 22s 40ms/step - loss: 1.0948 - acc: 0.6596 - val_loss: 1.3876 - val_acc: 0.5964\n",
      "\n",
      "Epoch 00024: val_acc improved from 0.58507 to 0.59640, saving model to model/weights_0.best.hdf5\n",
      "Epoch 25/100\n",
      "560/560 [==============================] - 23s 41ms/step - loss: 1.0685 - acc: 0.6682 - val_loss: 1.4177 - val_acc: 0.5914\n",
      "\n",
      "Epoch 00025: val_acc did not improve from 0.59640\n",
      "Epoch 26/100\n",
      "560/560 [==============================] - 22s 40ms/step - loss: 1.0456 - acc: 0.6727 - val_loss: 1.4539 - val_acc: 0.5897\n",
      "\n",
      "Epoch 00026: val_acc did not improve from 0.59640\n",
      "Epoch 27/100\n",
      "560/560 [==============================] - 23s 40ms/step - loss: 1.0139 - acc: 0.6836 - val_loss: 1.3737 - val_acc: 0.6050\n",
      "\n",
      "Epoch 00027: val_acc improved from 0.59640 to 0.60498, saving model to model/weights_0.best.hdf5\n",
      "Epoch 28/100\n",
      "560/560 [==============================] - 22s 40ms/step - loss: 0.9975 - acc: 0.6911 - val_loss: 1.3511 - val_acc: 0.6144\n",
      "\n",
      "Epoch 00028: val_acc improved from 0.60498 to 0.61440, saving model to model/weights_0.best.hdf5\n",
      "Epoch 29/100\n",
      "560/560 [==============================] - 23s 40ms/step - loss: 0.9733 - acc: 0.6965 - val_loss: 1.4043 - val_acc: 0.6043\n",
      "\n",
      "Epoch 00029: val_acc did not improve from 0.61440\n",
      "Epoch 30/100\n",
      "560/560 [==============================] - 22s 40ms/step - loss: 0.9624 - acc: 0.7008 - val_loss: 1.3815 - val_acc: 0.6071\n",
      "\n",
      "Epoch 00030: val_acc did not improve from 0.61440\n",
      "Epoch 31/100\n",
      "560/560 [==============================] - 23s 40ms/step - loss: 0.9431 - acc: 0.7062 - val_loss: 1.2999 - val_acc: 0.6215\n",
      "\n",
      "Epoch 00031: val_acc improved from 0.61440 to 0.62148, saving model to model/weights_0.best.hdf5\n",
      "Epoch 32/100\n",
      "560/560 [==============================] - 23s 40ms/step - loss: 0.9382 - acc: 0.7070 - val_loss: 1.3587 - val_acc: 0.6199\n",
      "\n",
      "Epoch 00032: val_acc did not improve from 0.62148\n",
      "Epoch 33/100\n",
      "560/560 [==============================] - 23s 41ms/step - loss: 0.9157 - acc: 0.7152 - val_loss: 1.2994 - val_acc: 0.6261\n",
      "\n",
      "Epoch 00033: val_acc improved from 0.62148 to 0.62606, saving model to model/weights_0.best.hdf5\n",
      "Epoch 34/100\n",
      "560/560 [==============================] - 23s 41ms/step - loss: 0.8975 - acc: 0.7221 - val_loss: 1.2496 - val_acc: 0.6440\n",
      "\n",
      "Epoch 00034: val_acc improved from 0.62606 to 0.64398, saving model to model/weights_0.best.hdf5\n",
      "Epoch 35/100\n",
      "560/560 [==============================] - 23s 40ms/step - loss: 0.8822 - acc: 0.7255 - val_loss: 1.3239 - val_acc: 0.6263\n",
      "\n",
      "Epoch 00035: val_acc did not improve from 0.64398\n",
      "Epoch 36/100\n",
      "560/560 [==============================] - 22s 40ms/step - loss: 0.8616 - acc: 0.7332 - val_loss: 1.3159 - val_acc: 0.6298\n",
      "\n",
      "Epoch 00036: val_acc did not improve from 0.64398\n",
      "Epoch 37/100\n",
      "560/560 [==============================] - 23s 40ms/step - loss: 0.8535 - acc: 0.7328 - val_loss: 1.2138 - val_acc: 0.6538\n",
      "\n",
      "Epoch 00037: val_acc improved from 0.64398 to 0.65381, saving model to model/weights_0.best.hdf5\n",
      "Epoch 38/100\n",
      "560/560 [==============================] - 23s 41ms/step - loss: 0.8373 - acc: 0.7374 - val_loss: 1.3271 - val_acc: 0.6324\n",
      "\n",
      "Epoch 00038: val_acc did not improve from 0.65381\n",
      "Epoch 39/100\n"
     ]
    },
    {
     "name": "stdout",
     "output_type": "stream",
     "text": [
      "560/560 [==============================] - 23s 40ms/step - loss: 0.8250 - acc: 0.7428 - val_loss: 1.3692 - val_acc: 0.6309\n",
      "\n",
      "Epoch 00039: val_acc did not improve from 0.65381\n",
      "Epoch 40/100\n",
      "560/560 [==============================] - 22s 40ms/step - loss: 0.8150 - acc: 0.7447 - val_loss: 1.3393 - val_acc: 0.6363\n",
      "\n",
      "Epoch 00040: val_acc did not improve from 0.65381\n",
      "Epoch 41/100\n",
      "560/560 [==============================] - 23s 41ms/step - loss: 0.7919 - acc: 0.7521 - val_loss: 1.2517 - val_acc: 0.6531\n",
      "\n",
      "Epoch 00041: val_acc did not improve from 0.65381\n",
      "Epoch 42/100\n",
      "560/560 [==============================] - 22s 40ms/step - loss: 0.7903 - acc: 0.7535 - val_loss: 1.2711 - val_acc: 0.6480\n",
      "\n",
      "Epoch 00042: val_acc did not improve from 0.65381\n",
      "Epoch 43/100\n",
      "560/560 [==============================] - 22s 39ms/step - loss: 0.7793 - acc: 0.7569 - val_loss: 1.1919 - val_acc: 0.6661\n",
      "\n",
      "Epoch 00043: val_acc improved from 0.65381 to 0.66606, saving model to model/weights_0.best.hdf5\n",
      "Epoch 44/100\n",
      "560/560 [==============================] - 22s 39ms/step - loss: 0.7664 - acc: 0.7583 - val_loss: 1.2112 - val_acc: 0.6642\n",
      "\n",
      "Epoch 00044: val_acc did not improve from 0.66606\n",
      "Epoch 45/100\n",
      "560/560 [==============================] - 22s 40ms/step - loss: 0.7617 - acc: 0.7648 - val_loss: 1.2689 - val_acc: 0.6525\n",
      "\n",
      "Epoch 00045: val_acc did not improve from 0.66606\n",
      "Epoch 46/100\n",
      "560/560 [==============================] - 22s 39ms/step - loss: 0.7534 - acc: 0.7638 - val_loss: 1.2992 - val_acc: 0.6502\n",
      "\n",
      "Epoch 00046: val_acc did not improve from 0.66606\n",
      "Epoch 47/100\n",
      "560/560 [==============================] - 23s 40ms/step - loss: 0.7446 - acc: 0.7663 - val_loss: 1.1896 - val_acc: 0.6637\n",
      "\n",
      "Epoch 00047: val_acc did not improve from 0.66606\n",
      "Epoch 48/100\n",
      "560/560 [==============================] - 22s 39ms/step - loss: 0.7315 - acc: 0.7685 - val_loss: 1.2755 - val_acc: 0.6562\n",
      "\n",
      "Epoch 00048: val_acc did not improve from 0.66606\n",
      "Epoch 49/100\n",
      "560/560 [==============================] - 22s 39ms/step - loss: 0.7236 - acc: 0.7724 - val_loss: 1.1707 - val_acc: 0.6716\n",
      "\n",
      "Epoch 00049: val_acc improved from 0.66606 to 0.67164, saving model to model/weights_0.best.hdf5\n",
      "Epoch 50/100\n",
      "560/560 [==============================] - 22s 40ms/step - loss: 0.7105 - acc: 0.7750 - val_loss: 1.2181 - val_acc: 0.6683\n",
      "\n",
      "Epoch 00050: val_acc did not improve from 0.67164\n",
      "Epoch 51/100\n",
      "560/560 [==============================] - 22s 40ms/step - loss: 0.7111 - acc: 0.7777 - val_loss: 1.2469 - val_acc: 0.6646\n",
      "\n",
      "Epoch 00051: val_acc did not improve from 0.67164\n",
      "Epoch 52/100\n",
      "560/560 [==============================] - 22s 40ms/step - loss: 0.6954 - acc: 0.7818 - val_loss: 1.2281 - val_acc: 0.6677\n",
      "\n",
      "Epoch 00052: val_acc did not improve from 0.67164\n",
      "Epoch 53/100\n",
      "560/560 [==============================] - 22s 40ms/step - loss: 0.6902 - acc: 0.7839 - val_loss: 1.2124 - val_acc: 0.6765\n",
      "\n",
      "Epoch 00053: val_acc improved from 0.67164 to 0.67647, saving model to model/weights_0.best.hdf5\n",
      "Epoch 54/100\n",
      "560/560 [==============================] - 22s 40ms/step - loss: 0.6858 - acc: 0.7869 - val_loss: 1.1980 - val_acc: 0.6756\n",
      "\n",
      "Epoch 00054: val_acc did not improve from 0.67647\n",
      "Epoch 55/100\n",
      "560/560 [==============================] - 22s 40ms/step - loss: 0.6881 - acc: 0.7827 - val_loss: 1.1988 - val_acc: 0.6791\n",
      "\n",
      "Epoch 00055: val_acc improved from 0.67647 to 0.67914, saving model to model/weights_0.best.hdf5\n",
      "Epoch 56/100\n",
      "560/560 [==============================] - 22s 40ms/step - loss: 0.6711 - acc: 0.7886 - val_loss: 1.1429 - val_acc: 0.6886\n",
      "\n",
      "Epoch 00056: val_acc improved from 0.67914 to 0.68864, saving model to model/weights_0.best.hdf5\n",
      "Epoch 57/100\n",
      "560/560 [==============================] - 22s 40ms/step - loss: 0.6658 - acc: 0.7924 - val_loss: 1.1657 - val_acc: 0.6875\n",
      "\n",
      "Epoch 00057: val_acc did not improve from 0.68864\n",
      "Epoch 58/100\n",
      "560/560 [==============================] - 22s 39ms/step - loss: 0.6656 - acc: 0.7888 - val_loss: 1.2439 - val_acc: 0.6686\n",
      "\n",
      "Epoch 00058: val_acc did not improve from 0.68864\n",
      "Epoch 59/100\n",
      "560/560 [==============================] - 22s 39ms/step - loss: 0.6508 - acc: 0.7968 - val_loss: 1.2210 - val_acc: 0.6808\n",
      "\n",
      "Epoch 00059: val_acc did not improve from 0.68864\n",
      "Epoch 60/100\n",
      "560/560 [==============================] - 22s 39ms/step - loss: 0.6507 - acc: 0.7965 - val_loss: 1.2337 - val_acc: 0.6726\n",
      "\n",
      "Epoch 00060: val_acc did not improve from 0.68864\n",
      "Epoch 61/100\n",
      "560/560 [==============================] - 22s 40ms/step - loss: 0.6345 - acc: 0.8014 - val_loss: 1.2357 - val_acc: 0.6758\n",
      "\n",
      "Epoch 00061: val_acc did not improve from 0.68864\n",
      "Epoch 62/100\n",
      "560/560 [==============================] - 22s 39ms/step - loss: 0.6310 - acc: 0.8032 - val_loss: 1.2572 - val_acc: 0.6737\n",
      "\n",
      "Epoch 00062: val_acc did not improve from 0.68864\n",
      "Epoch 63/100\n",
      "560/560 [==============================] - 22s 39ms/step - loss: 0.6255 - acc: 0.8039 - val_loss: 1.2986 - val_acc: 0.6626\n",
      "\n",
      "Epoch 00063: val_acc did not improve from 0.68864\n",
      "Epoch 64/100\n",
      "560/560 [==============================] - 22s 39ms/step - loss: 0.6262 - acc: 0.8035 - val_loss: 1.2321 - val_acc: 0.6753\n",
      "\n",
      "Epoch 00064: val_acc did not improve from 0.68864\n",
      "Epoch 65/100\n",
      "560/560 [==============================] - 22s 39ms/step - loss: 0.6326 - acc: 0.8013 - val_loss: 1.1327 - val_acc: 0.6906\n",
      "\n",
      "Epoch 00065: val_acc improved from 0.68864 to 0.69063, saving model to model/weights_0.best.hdf5\n",
      "Epoch 66/100\n",
      "560/560 [==============================] - 22s 40ms/step - loss: 0.6123 - acc: 0.8080 - val_loss: 1.2123 - val_acc: 0.6828\n",
      "\n",
      "Epoch 00066: val_acc did not improve from 0.69063\n",
      "Epoch 67/100\n",
      "560/560 [==============================] - 22s 39ms/step - loss: 0.6087 - acc: 0.8101 - val_loss: 1.1973 - val_acc: 0.6864\n",
      "\n",
      "Epoch 00067: val_acc did not improve from 0.69063\n",
      "Epoch 68/100\n",
      "560/560 [==============================] - 22s 39ms/step - loss: 0.6026 - acc: 0.8111 - val_loss: 1.1333 - val_acc: 0.6992\n",
      "\n",
      "Epoch 00068: val_acc improved from 0.69063 to 0.69922, saving model to model/weights_0.best.hdf5\n",
      "Epoch 69/100\n",
      "560/560 [==============================] - 22s 39ms/step - loss: 0.5930 - acc: 0.8156 - val_loss: 1.2433 - val_acc: 0.6766\n",
      "\n",
      "Epoch 00069: val_acc did not improve from 0.69922\n",
      "Epoch 70/100\n",
      "560/560 [==============================] - 22s 39ms/step - loss: 0.5980 - acc: 0.8118 - val_loss: 1.1892 - val_acc: 0.6911\n",
      "\n",
      "Epoch 00070: val_acc did not improve from 0.69922\n",
      "Epoch 71/100\n",
      "560/560 [==============================] - 22s 39ms/step - loss: 0.5991 - acc: 0.8112 - val_loss: 1.1768 - val_acc: 0.6909\n",
      "\n",
      "Epoch 00071: val_acc did not improve from 0.69922\n",
      "Epoch 72/100\n",
      "560/560 [==============================] - 22s 39ms/step - loss: 0.5879 - acc: 0.8159 - val_loss: 1.1697 - val_acc: 0.6937\n",
      "\n",
      "Epoch 00072: val_acc did not improve from 0.69922\n",
      "Epoch 73/100\n",
      "560/560 [==============================] - 22s 39ms/step - loss: 0.5855 - acc: 0.8188 - val_loss: 1.0784 - val_acc: 0.7099\n",
      "\n",
      "Epoch 00073: val_acc improved from 0.69922 to 0.70988, saving model to model/weights_0.best.hdf5\n",
      "Epoch 74/100\n",
      "560/560 [==============================] - 22s 39ms/step - loss: 0.5795 - acc: 0.8162 - val_loss: 1.1160 - val_acc: 0.7041\n",
      "\n",
      "Epoch 00074: val_acc did not improve from 0.70988\n",
      "Epoch 75/100\n",
      "560/560 [==============================] - 22s 39ms/step - loss: 0.5857 - acc: 0.8178 - val_loss: 1.2015 - val_acc: 0.6842\n",
      "\n",
      "Epoch 00075: val_acc did not improve from 0.70988\n",
      "Epoch 76/100\n",
      "560/560 [==============================] - 22s 39ms/step - loss: 0.5766 - acc: 0.8192 - val_loss: 1.1359 - val_acc: 0.7030\n",
      "\n",
      "Epoch 00076: val_acc did not improve from 0.70988\n",
      "Epoch 77/100\n",
      "560/560 [==============================] - 22s 39ms/step - loss: 0.5735 - acc: 0.8212 - val_loss: 1.1641 - val_acc: 0.6990\n",
      "\n",
      "Epoch 00077: val_acc did not improve from 0.70988\n",
      "Epoch 78/100\n",
      "560/560 [==============================] - 22s 39ms/step - loss: 0.5642 - acc: 0.8257 - val_loss: 1.1240 - val_acc: 0.7066\n",
      "\n",
      "Epoch 00078: val_acc did not improve from 0.70988\n",
      "Epoch 79/100\n",
      "560/560 [==============================] - 22s 39ms/step - loss: 0.5647 - acc: 0.8243 - val_loss: 1.1312 - val_acc: 0.7032\n",
      "\n",
      "Epoch 00079: val_acc did not improve from 0.70988\n",
      "Epoch 80/100\n",
      "560/560 [==============================] - 22s 40ms/step - loss: 0.5590 - acc: 0.8241 - val_loss: 1.1340 - val_acc: 0.7053\n",
      "\n",
      "Epoch 00080: val_acc did not improve from 0.70988\n",
      "Epoch 81/100\n"
     ]
    },
    {
     "name": "stdout",
     "output_type": "stream",
     "text": [
      "560/560 [==============================] - 22s 39ms/step - loss: 0.5556 - acc: 0.8249 - val_loss: 1.1243 - val_acc: 0.7099\n",
      "\n",
      "Epoch 00081: val_acc improved from 0.70988 to 0.70988, saving model to model/weights_0.best.hdf5\n",
      "Epoch 82/100\n",
      "560/560 [==============================] - 22s 39ms/step - loss: 0.5521 - acc: 0.8284 - val_loss: 1.2078 - val_acc: 0.6921\n",
      "\n",
      "Epoch 00082: val_acc did not improve from 0.70988\n",
      "Epoch 83/100\n",
      "560/560 [==============================] - 22s 39ms/step - loss: 0.5516 - acc: 0.8278 - val_loss: 1.1587 - val_acc: 0.7036\n",
      "\n",
      "Epoch 00083: val_acc did not improve from 0.70988\n",
      "Epoch 84/100\n",
      "560/560 [==============================] - 22s 39ms/step - loss: 0.5477 - acc: 0.8291 - val_loss: 1.1231 - val_acc: 0.7086\n",
      "\n",
      "Epoch 00084: val_acc did not improve from 0.70988\n",
      "Epoch 85/100\n",
      "560/560 [==============================] - 22s 39ms/step - loss: 0.5486 - acc: 0.8297 - val_loss: 1.1407 - val_acc: 0.7041\n",
      "\n",
      "Epoch 00085: val_acc did not improve from 0.70988\n",
      "Epoch 86/100\n",
      "560/560 [==============================] - 22s 39ms/step - loss: 0.5385 - acc: 0.8333 - val_loss: 1.0560 - val_acc: 0.7211\n",
      "\n",
      "Epoch 00086: val_acc improved from 0.70988 to 0.72113, saving model to model/weights_0.best.hdf5\n",
      "Epoch 87/100\n",
      "560/560 [==============================] - 22s 39ms/step - loss: 0.5413 - acc: 0.8327 - val_loss: 1.1869 - val_acc: 0.6945\n",
      "\n",
      "Epoch 00087: val_acc did not improve from 0.72113\n",
      "Epoch 88/100\n",
      "560/560 [==============================] - 22s 39ms/step - loss: 0.5314 - acc: 0.8358 - val_loss: 1.1158 - val_acc: 0.7122\n",
      "\n",
      "Epoch 00088: val_acc did not improve from 0.72113\n",
      "Epoch 89/100\n",
      "560/560 [==============================] - 22s 39ms/step - loss: 0.5322 - acc: 0.8346 - val_loss: 1.0899 - val_acc: 0.7194\n",
      "\n",
      "Epoch 00089: val_acc did not improve from 0.72113\n",
      "Epoch 90/100\n",
      "560/560 [==============================] - 22s 38ms/step - loss: 0.5195 - acc: 0.8397 - val_loss: 1.1924 - val_acc: 0.7000\n",
      "\n",
      "Epoch 00090: val_acc did not improve from 0.72113\n",
      "Epoch 91/100\n",
      "560/560 [==============================] - 22s 38ms/step - loss: 0.5270 - acc: 0.8352 - val_loss: 1.1305 - val_acc: 0.7130\n",
      "\n",
      "Epoch 00091: val_acc did not improve from 0.72113\n",
      "Epoch 92/100\n",
      "560/560 [==============================] - 21s 38ms/step - loss: 0.5220 - acc: 0.8361 - val_loss: 1.1054 - val_acc: 0.7180\n",
      "\n",
      "Epoch 00092: val_acc did not improve from 0.72113\n",
      "Epoch 93/100\n",
      "560/560 [==============================] - 22s 39ms/step - loss: 0.5184 - acc: 0.8392 - val_loss: 1.1558 - val_acc: 0.7081\n",
      "\n",
      "Epoch 00093: val_acc did not improve from 0.72113\n",
      "Epoch 94/100\n",
      "560/560 [==============================] - 22s 39ms/step - loss: 0.5203 - acc: 0.8365 - val_loss: 1.1274 - val_acc: 0.7113\n",
      "\n",
      "Epoch 00094: val_acc did not improve from 0.72113\n",
      "Epoch 95/100\n",
      "560/560 [==============================] - 22s 39ms/step - loss: 0.5244 - acc: 0.8368 - val_loss: 1.1245 - val_acc: 0.7133\n",
      "\n",
      "Epoch 00095: val_acc did not improve from 0.72113\n",
      "Epoch 96/100\n",
      "560/560 [==============================] - 22s 39ms/step - loss: 0.5105 - acc: 0.8421 - val_loss: 1.1957 - val_acc: 0.7023\n",
      "\n",
      "Epoch 00096: val_acc did not improve from 0.72113\n",
      "Epoch 97/100\n",
      "560/560 [==============================] - 22s 39ms/step - loss: 0.5056 - acc: 0.8420 - val_loss: 1.1408 - val_acc: 0.7102\n",
      "\n",
      "Epoch 00097: val_acc did not improve from 0.72113\n",
      "Epoch 98/100\n",
      "560/560 [==============================] - 22s 39ms/step - loss: 0.5152 - acc: 0.8391 - val_loss: 1.1755 - val_acc: 0.7031\n",
      "\n",
      "Epoch 00098: val_acc did not improve from 0.72113\n",
      "Epoch 99/100\n",
      "560/560 [==============================] - 21s 38ms/step - loss: 0.5067 - acc: 0.8413 - val_loss: 1.2164 - val_acc: 0.6982\n",
      "\n",
      "Epoch 00099: val_acc did not improve from 0.72113\n",
      "Epoch 100/100\n",
      "560/560 [==============================] - 21s 38ms/step - loss: 0.5058 - acc: 0.8427 - val_loss: 1.1470 - val_acc: 0.7108\n",
      "\n",
      "Epoch 00100: val_acc did not improve from 0.72113\n"
     ]
    }
   ],
   "source": [
    "# fit the model\n",
    "history = model.fit_generator(datagen.flow(X_train, y_train, batch_size=batch_size),\n",
    "                              steps_per_epoch=int(np.ceil(X_train.shape[0] / float(batch_size))),\n",
    "                              epochs=epochs,\n",
    "                              validation_data=(X_test, y_test),\n",
    "                              verbose=1,callbacks=callbacks_list)\n",
    " "
   ]
  },
  {
   "cell_type": "markdown",
   "metadata": {
    "colab_type": "text",
    "id": "KvuGfPdfhoA4"
   },
   "source": [
    "Note: Due to Memory Error like Buffered data was truncated after reaching the output size limit.\n",
    "What i did is that Save the model in for example 60th epoch and close current program and run new program and restore saved model and train model from 61 epoch to 120 epoch and save that and close program and repeat this work for your interested epoch \n",
    "For this [100,50] three times repeat \n"
   ]
  },
  {
   "cell_type": "code",
   "execution_count": 55,
   "metadata": {},
   "outputs": [
    {
     "data": {
      "image/png": "[encoded data removed]",
      "text/plain": [
       "<Figure size 1080x432 with 1 Axes>"
      ]
     },
     "metadata": {},
     "output_type": "display_data"
    },
    {
     "data": {
      "image/png": "[encoded data removed]",
      "text/plain": [
       "<Figure size 1080x432 with 1 Axes>"
      ]
     },
     "metadata": {},
     "output_type": "display_data"
    }
   ],
   "source": [
    "import matplotlib.pyplot as plt\n",
    "plt.style.use('fivethirtyeight')\n",
    "# Plot training & validation accuracy values\n",
    "plt.figure(figsize=(15,6))\n",
    "plt.plot(history.history['acc'])\n",
    "plt.plot(history.history['val_acc'])\n",
    "plt.title('Model accuracy')\n",
    "plt.ylabel('Accuracy')\n",
    "plt.xlabel('Epoch')\n",
    "plt.legend(['Train', 'Test'], loc='upper left')\n",
    "plt.show()\n",
    "\n",
    "# Plot training & validation loss values\n",
    "plt.figure(figsize=(15,6))\n",
    "plt.plot(history.history['loss'])\n",
    "plt.plot(history.history['val_loss'])\n",
    "plt.title('Model loss')\n",
    "plt.ylabel('Loss')\n",
    "plt.xlabel('Epoch')\n",
    "plt.legend(['Train', 'Test'], loc='upper left')\n",
    "plt.show()"
   ]
  },
  {
   "cell_type": "code",
   "execution_count": 56,
   "metadata": {
    "colab": {
     "base_uri": "https://localhost:8080/",
     "height": 52
    },
    "colab_type": "code",
    "id": "PylGG0WwhnZ0",
    "outputId": "373c4b97-20a0-4d8b-fbc0-bf2895dfee48"
   },
   "outputs": [
    {
     "name": "stdout",
     "output_type": "stream",
     "text": [
      "12002/12002 [==============================] - 1s 111us/step\n"
     ]
    },
    {
     "data": {
      "text/plain": [
       "[1.1470031869786914, 0.71079820029995]"
      ]
     },
     "execution_count": 56,
     "metadata": {},
     "output_type": "execute_result"
    }
   ],
   "source": [
    "# evaluate model\n",
    "model.evaluate(X_test, y_test)"
   ]
  },
  {
   "cell_type": "markdown",
   "metadata": {
    "colab_type": "text",
    "id": "weHphSdAw0gp"
   },
   "source": [
    "# Classification Report and Confusion Matrix"
   ]
  },
  {
   "cell_type": "code",
   "execution_count": 57,
   "metadata": {
    "colab": {},
    "colab_type": "code",
    "id": "nyoiU6LvLmLS"
   },
   "outputs": [],
   "source": [
    "from sklearn.metrics import classification_report, confusion_matrix"
   ]
  },
  {
   "cell_type": "code",
   "execution_count": 58,
   "metadata": {
    "colab": {},
    "colab_type": "code",
    "id": "ZtjNw9wRvzNf"
   },
   "outputs": [],
   "source": [
    "y_pred = model.predict_classes(X_test)"
   ]
  },
  {
   "cell_type": "code",
   "execution_count": 59,
   "metadata": {
    "colab": {},
    "colab_type": "code",
    "id": "q4lqJQP4v1lK"
   },
   "outputs": [],
   "source": [
    "target_name = np.array(df['category'])"
   ]
  },
  {
   "cell_type": "code",
   "execution_count": 60,
   "metadata": {
    "colab": {
     "base_uri": "https://localhost:8080/",
     "height": 972
    },
    "colab_type": "code",
    "id": "zKWkLNjbv1i_",
    "outputId": "aa66eac8-f6ca-4623-9cf1-0b51d10a1111"
   },
   "outputs": [
    {
     "name": "stdout",
     "output_type": "stream",
     "text": [
      "                  precision    recall  f1-score   support\n",
      "\n",
      "             dog       0.76      0.76      0.76       242\n",
      "         rooster       0.76      0.42      0.54       248\n",
      "             pig       0.82      0.62      0.71       253\n",
      "             cow       0.74      0.69      0.71       233\n",
      "            frog       0.92      0.86      0.89       237\n",
      "             cat       0.64      0.63      0.64       236\n",
      "             hen       0.72      0.68      0.70       219\n",
      "         insects       0.73      0.79      0.76       230\n",
      "           sheep       0.73      0.76      0.74       243\n",
      "            crow       0.88      0.72      0.79       235\n",
      "            rain       0.80      0.94      0.87       220\n",
      "       sea_waves       0.64      0.88      0.74       242\n",
      "  crackling_fire       0.88      0.77      0.82       247\n",
      "        crickets       0.89      0.94      0.91       245\n",
      "  chirping_birds       0.90      0.67      0.77       232\n",
      "     water_drops       0.76      0.50      0.60       250\n",
      "            wind       0.57      0.93      0.71       229\n",
      "   pouring_water       0.84      0.63      0.72       234\n",
      "    toilet_flush       0.76      0.78      0.77       244\n",
      "    thunderstorm       0.70      0.79      0.74       241\n",
      "     crying_baby       0.71      0.71      0.71       252\n",
      "        sneezing       0.54      0.30      0.39       267\n",
      "        clapping       0.88      0.81      0.84       219\n",
      "       breathing       0.74      0.66      0.70       245\n",
      "        coughing       0.68      0.41      0.51       271\n",
      "       footsteps       0.79      0.80      0.80       239\n",
      "        laughing       0.69      0.53      0.60       244\n",
      "  brushing_teeth       0.88      0.86      0.87       250\n",
      "         snoring       0.59      0.72      0.65       254\n",
      "drinking_sipping       0.63      0.47      0.54       247\n",
      " door_wood_knock       0.59      0.59      0.59       233\n",
      "     mouse_click       0.71      0.60      0.65       225\n",
      " keyboard_typing       0.84      0.77      0.80       245\n",
      "door_wood_creaks       0.70      0.58      0.63       237\n",
      "     can_opening       0.69      0.42      0.52       261\n",
      " washing_machine       0.79      0.63      0.70       228\n",
      "  vacuum_cleaner       0.79      0.93      0.85       230\n",
      "     clock_alarm       0.93      0.86      0.90       255\n",
      "      clock_tick       0.92      0.81      0.86       245\n",
      "  glass_breaking       0.20      0.80      0.32       255\n",
      "      helicopter       0.79      0.60      0.68       228\n",
      "        chainsaw       0.76      0.86      0.81       227\n",
      "           siren       0.86      0.92      0.89       236\n",
      "        car_horn       0.57      0.68      0.62       238\n",
      "          engine       0.92      0.74      0.82       220\n",
      "           train       0.64      0.62      0.63       242\n",
      "    church_bells       0.84      0.96      0.89       245\n",
      "        airplane       0.79      0.62      0.70       231\n",
      "       fireworks       0.79      0.77      0.78       230\n",
      "        hand_saw       0.89      0.89      0.89       243\n",
      "\n",
      "       micro avg       0.71      0.71      0.71     12002\n",
      "       macro avg       0.75      0.71      0.72     12002\n",
      "    weighted avg       0.75      0.71      0.72     12002\n",
      "\n"
     ]
    }
   ],
   "source": [
    "print(classification_report(np.argmax(y_test,axis=1),y_pred,target_names=target_name))"
   ]
  },
  {
   "cell_type": "code",
   "execution_count": null,
   "metadata": {
    "colab": {
     "base_uri": "https://localhost:8080/",
     "height": 139
    },
    "colab_type": "code",
    "id": "iK7N49_dv1g9",
    "outputId": "3766eec7-0e04-4fa6-c498-a4a20a2ba013"
   },
   "outputs": [
    {
     "data": {
      "text/plain": [
       "<matplotlib.axes._subplots.AxesSubplot at 0x7fd5a9b322e8>"
      ]
     },
     "execution_count": 61,
     "metadata": {},
     "output_type": "execute_result"
    }
   ],
   "source": [
    "import seaborn as sns\n",
    "cn_matrix = confusion_matrix(np.argmax(y_test,axis=1),y_pred)\n",
    "plt.figure(figsize = (20,20))\n",
    "sns.heatmap(cn_matrix, annot=True)"
   ]
  }
 ],
 "metadata": {
  "accelerator": "GPU",
  "colab": {
   "collapsed_sections": [],
   "name": "mark3.ipynb",
   "provenance": [],
   "version": "0.3.2"
  },
  "kernelspec": {
   "display_name": "Python 3",
   "language": "python",
   "name": "python3"
  },
  "language_info": {
   "codemirror_mode": {
    "name": "ipython",
    "version": 3
   },
   "file_extension": ".py",
   "mimetype": "text/x-python",
   "name": "python",
   "nbconvert_exporter": "python",
   "pygments_lexer": "ipython3",
   "version": "3.6.8"
  }
 },
 "nbformat": 4,
 "nbformat_minor": 1
}
